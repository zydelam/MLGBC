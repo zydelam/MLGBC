{
 "cells": [
  {
   "cell_type": "code",
   "execution_count": null,
   "id": "eb38c9ac",
   "metadata": {
    "scrolled": true
   },
   "outputs": [
    {
     "name": "stdout",
     "output_type": "stream",
     "text": [
      " * Serving Flask app '__main__' (lazy loading)\n",
      " * Environment: production\n",
      "\u001b[31m   WARNING: This is a development server. Do not use it in a production deployment.\u001b[0m\n",
      "\u001b[2m   Use a production WSGI server instead.\u001b[0m\n",
      " * Debug mode: off\n"
     ]
    },
    {
     "name": "stderr",
     "output_type": "stream",
     "text": [
      " * Running on all addresses.\n",
      "   WARNING: This is a development server. Do not use it in a production deployment.\n",
      " * Running on http://192.168.0.13:5001/ (Press CTRL+C to quit)\n",
      "192.168.0.13 - - [28/Jan/2022 20:04:21] \"GET / HTTP/1.1\" 200 -\n",
      "192.168.0.13 - - [28/Jan/2022 20:04:21] \"GET /static/css/style.css HTTP/1.1\" 304 -\n"
     ]
    },
    {
     "name": "stdout",
     "output_type": "stream",
     "text": [
      "<class 'gtts.tts.gTTS'>\n"
     ]
    },
    {
     "data": {
      "text/html": [
       "\n",
       "                <audio  controls=\"controls\" >\n",
       "                    <source src=\"data:audio/mpeg;base64,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\" type=\"audio/mpeg\" />\n",
       "                    Your browser does not support the audio element.\n",
       "                </audio>\n",
       "              "
      ],
      "text/plain": [
       "<IPython.lib.display.Audio object>"
      ]
     },
     "metadata": {},
     "output_type": "display_data"
    },
    {
     "name": "stderr",
     "output_type": "stream",
     "text": [
      "192.168.0.13 - - [28/Jan/2022 20:04:30] \"POST /predict HTTP/1.1\" 200 -\n",
      "192.168.0.13 - - [28/Jan/2022 20:04:31] \"GET /static/css/style.css HTTP/1.1\" 304 -\n",
      "192.168.0.13 - - [28/Jan/2022 20:04:52] \"GET /speech_1.mp3 HTTP/1.1\" 404 -\n"
     ]
    }
   ],
   "source": [
    "import numpy as np\n",
    "import pickle\n",
    "import pandas as pd\n",
    "from flask import Flask, request\n",
    "from flask import Flask, request, jsonify, render_template\n",
    "from keras.models import load_model\n",
    "import predictionlib\n",
    "from base64 import b64encode\n",
    "from PIL import Image\n",
    "import io\n",
    "import os\n",
    "from gtts import gTTS\n",
    "import IPython\n",
    "\n",
    "app=Flask(__name__)\n",
    "model = load_model('model_5.h5')\n",
    "idx_word_dic = pickle.load(open('idx_word_dic.pkl',\"rb\"))\n",
    "tokenizer = pickle.load(open('tokenizer.pkl', 'rb'))\n",
    "max_length = pickle.load(open('max_length.pkl', 'rb'))\n",
    "captions_dic =  pickle.load(open(\"captions_dic.pkl\", 'rb'))\n",
    "\n",
    "@app.route('/')\n",
    "def home():\n",
    "    return render_template('index.html')\n",
    "\n",
    "\n",
    "\n",
    "@app.route('/predict',methods=['POST'])\n",
    "def predict():\n",
    "    '''\n",
    "    For rendering results on HTML GUI\n",
    "    '''\n",
    "    f = request.files['file']\n",
    "    content = f.read()\n",
    "    res_image = b64encode(content).decode(\"utf-8\")\n",
    "\n",
    "    img = Image.open(io.BytesIO(content))\n",
    "    if img.mode != 'RGB':\n",
    "        img = img.convert('RGB')\n",
    "    target_size = (224, 224)\n",
    "    img = img.resize(target_size, Image.NEAREST)\n",
    "#     print(max_length)\n",
    "    caption = predictionlib.generate_captions(model, img, tokenizer, idx_word_dic, max_length)\n",
    "    \n",
    "    speech = gTTS(text = caption, lang = 'en', slow = False)\n",
    "    print(type(speech))\n",
    "#     speech.save(r'./templates/speech_1.mp3')\n",
    "    \n",
    "    \n",
    "    IPython.display.display(IPython.display.Audio('speech_1.mp3'))\n",
    "\n",
    "    \n",
    "    return render_template('results.html', result='Predicted Caption: {}'.format(caption),\n",
    "                           res_image=res_image)\n",
    "    \n",
    "    \n",
    "    \n",
    "\n",
    "\n",
    "if __name__=='__main__':\n",
    "    app.run(host='0.0.0.0', port=5001)"
   ]
  },
  {
   "cell_type": "code",
   "execution_count": 2,
   "id": "9569799d",
   "metadata": {},
   "outputs": [
    {
     "data": {
      "text/plain": [
       "<_io.BufferedReader name='speech_1.mp3'>"
      ]
     },
     "execution_count": 2,
     "metadata": {},
     "output_type": "execute_result"
    }
   ],
   "source": [
    "open('speech_1.mp3', 'rb')"
   ]
  },
  {
   "cell_type": "code",
   "execution_count": 1,
   "id": "034d915c",
   "metadata": {},
   "outputs": [
    {
     "name": "stdout",
     "output_type": "stream",
     "text": [
      "Requirement already satisfied: pydub in d:\\anaconda\\envs\\image_caption\\lib\\site-packages (0.25.1)\n"
     ]
    }
   ],
   "source": [
    "!pip install pydub"
   ]
  },
  {
   "cell_type": "code",
   "execution_count": null,
   "id": "894fdee8",
   "metadata": {},
   "outputs": [],
   "source": []
  }
 ],
 "metadata": {
  "kernelspec": {
   "display_name": "image_caption",
   "language": "python",
   "name": "image_caption"
  },
  "language_info": {
   "codemirror_mode": {
    "name": "ipython",
    "version": 3
   },
   "file_extension": ".py",
   "mimetype": "text/x-python",
   "name": "python",
   "nbconvert_exporter": "python",
   "pygments_lexer": "ipython3",
   "version": "3.9.7"
  }
 },
 "nbformat": 4,
 "nbformat_minor": 5
}
